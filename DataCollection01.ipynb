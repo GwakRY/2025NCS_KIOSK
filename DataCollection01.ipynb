{
  "nbformat": 4,
  "nbformat_minor": 0,
  "metadata": {
    "colab": {
      "provenance": []
    },
    "kernelspec": {
      "name": "python3",
      "display_name": "Python 3"
    },
    "language_info": {
      "name": "python"
    }
  },
  "cells": [
    {
      "cell_type": "code",
      "execution_count": null,
      "metadata": {
        "id": "YNdS9t68iaxq"
      },
      "outputs": [],
      "source": [
        "# 웹 스크레이핑 (웹 크롤링): 웹사이트에서 직접 텍스트 데이터를 수집하는 방법\n",
        "\n",
        "# RSS 피드 이용: RSS는 웹사이트의 업데이트를 XML 형식으로 제공하는 서비스\n",
        "\n",
        "# OCR(Optical Character Recognition): 이미지나 PDF 등에서 텍스트를 추출\n",
        "\n",
        "# 개인화된 데이터(전자메일, 소셜미디어, 채팅 기록 등): 사용자 동의 하에 개인화된 텍스트 데이터도 유용한 자료가 됨\n",
        "\n",
        "# 기업/기관 DB 및 로그 파일: 기업이나 기관에서 보유하고 있는 DB나 로그 파일에도 유용한 텍스트 정보가 많을 수 있음.\n",
        "\n",
        "# API 이용: Twitter, Reddit 등의 플랫폼에서는 API를 제공하여 사용자가 쉽게 데이터를 수집\n",
        "\n",
        "# 공개 데이터셋 이용: 이미 공개된 NLP, AI, ML등의 데이터셋을 활용\n"
      ]
    },
    {
      "cell_type": "code",
      "source": [
        "# import urllib.request\n",
        "\n",
        "# url = 'https://www.inha.ac.kr/sites/kr/images/logo.png'\n",
        "# urllib.request.urlretrieve(url, 'inha.png')\n",
        "# print(\"saved!\")"
      ],
      "metadata": {
        "colab": {
          "base_uri": "https://localhost:8080/"
        },
        "id": "VjV8vGTSkmpG",
        "outputId": "afdc1e40-f2d7-419a-a8a6-b07e4e314fae"
      },
      "execution_count": null,
      "outputs": [
        {
          "output_type": "stream",
          "name": "stdout",
          "text": [
            "saved!\n"
          ]
        }
      ]
    },
    {
      "cell_type": "code",
      "source": [
        "# import urllib.request\n",
        "\n",
        "# url = 'https://www.inha.ac.kr/sites/kr/images/logo.png'\n",
        "# logo = urllib.request.urlopen(url).read()\n",
        "\n",
        "# with open('inha.png', 'wb') as fp:\n",
        "#   fp.write(logo)\n",
        "#   print(\"saved!\")"
      ],
      "metadata": {
        "colab": {
          "base_uri": "https://localhost:8080/"
        },
        "id": "P-8pcqLH4Ghx",
        "outputId": "d5b80498-1261-4fdd-f869-5b3f3cb18fc5"
      },
      "execution_count": null,
      "outputs": [
        {
          "output_type": "stream",
          "name": "stdout",
          "text": [
            "saved!\n"
          ]
        }
      ]
    },
    {
      "cell_type": "code",
      "source": [
        "import urllib.request\n",
        "import urllib.parse\n",
        "\n",
        "api = 'https://www.kma.go.kr/weather/forecast/mid-term-rss3.jsp'\n",
        "id = input('Input local code : ')  # 108, 109, 105\n",
        "values = {'stnId' : id}\n",
        "parameters = urllib.parse.urlencode(values)\n",
        "url = api + '?' + parameters\n",
        "#print(url)\n",
        "urls = urllib.request.urlopen(url).read()\n",
        "texts = urls.decode('utf-8')\n",
        "#print(texts)\n"
      ],
      "metadata": {
        "colab": {
          "base_uri": "https://localhost:8080/"
        },
        "id": "lXORaeqe7EGS",
        "outputId": "448572ea-5689-49f6-f5e9-aa139813e8ca"
      },
      "execution_count": null,
      "outputs": [
        {
          "output_type": "stream",
          "name": "stdout",
          "text": [
            "Input local code : 105\n",
            "https://www.kma.go.kr/weather/forecast/mid-term-rss3.jsp?stnId=105\n"
          ]
        }
      ]
    },
    {
      "cell_type": "code",
      "source": [
        "from bs4 import BeautifulSoup\n",
        "\n",
        "html = \"\"\"\n",
        "<html>\n",
        "<head>\n",
        "<title>스크레이핑 실습</title>\n",
        "</head>\n",
        "<body>\n",
        "<h1>인하대학교</h1>\n",
        "<p>웹스크레이핑</p>\n",
        "<p>넘파이, 판다스, NLP ... </p>\n",
        "</body>\n",
        "</html>\n",
        "\"\"\"\n",
        "\n",
        "soup = BeautifulSoup(html, 'html.parser')\n",
        "t = soup.html.head.title\n",
        "h1 = soup.html.body.h1.string\n",
        "p1 = soup.html.body.p\n",
        "p2 = p1.next_sibling.next_sibling\n",
        "\n",
        "print(p1.string)\n",
        "print(p2.string)\n",
        "print(h1)\n",
        "print(t)\n",
        "print(t.string)"
      ],
      "metadata": {
        "colab": {
          "base_uri": "https://localhost:8080/"
        },
        "id": "9IH7U3bADdXJ",
        "outputId": "8008a1bb-fcf0-4110-9b1b-8f2ad224daaa"
      },
      "execution_count": null,
      "outputs": [
        {
          "output_type": "stream",
          "name": "stdout",
          "text": [
            "웹스크레이핑\n",
            "넘파이, 판다스, NLP ... \n",
            "인하대학교\n",
            "<title>스크레이핑 실습</title>\n",
            "스크레이핑 실습\n"
          ]
        }
      ]
    }
  ]
}